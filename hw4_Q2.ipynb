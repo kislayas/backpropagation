{
 "cells": [
  {
   "cell_type": "code",
   "execution_count": 639,
   "metadata": {},
   "outputs": [],
   "source": [
    "import gzip\n",
    "import numpy as np\n",
    "from math import *\n",
    "import matplotlib.pyplot as plt"
   ]
  },
  {
   "cell_type": "code",
   "execution_count": 640,
   "metadata": {},
   "outputs": [],
   "source": [
    "# accepts the mnist image input in zipped format and return np array\n",
    "def get_data(filename, data_size, type='img'):\n",
    "    if type == 'img':\n",
    "        F_SIZE = 16\n",
    "    elif type == 'label':\n",
    "        F_SIZE = 8\n",
    "    with gzip.open(filename) as f:\n",
    "        f.read(F_SIZE)\n",
    "        data_buffer = f.read(data_size[0] * data_size[1] * data_size[2])\n",
    "        if type == 'img':\n",
    "            data = np.frombuffer(data_buffer, dtype=np.uint8).astype(np.float32)\n",
    "            data = data.reshape(data_size[2], data_size[1], data_size[0])\n",
    "        elif type == 'label':\n",
    "            data = np.frombuffer(data_buffer, dtype=np.uint8).astype(np.float64)\n",
    "            # print(data)\n",
    "        return data\n",
    "\n",
    "\n",
    "def step_function(value):\n",
    "    if value >= 0:\n",
    "        return 1\n",
    "    else:\n",
    "        return 0\n",
    "\n",
    "\n",
    "def create_desired_output_vector(index):\n",
    "    # print(index)\n",
    "    zero_list = np.zeros(10)\n",
    "    zero_list[index] = 1\n",
    "    return zero_list.reshape(10, 1)\n",
    "\n",
    "\n"
   ]
  },
  {
   "cell_type": "code",
   "execution_count": 641,
   "metadata": {},
   "outputs": [],
   "source": [
    "#Activation function to find sigmoid function\n",
    "def get_sigmoid_out(alpha, v):\n",
    "    return 1.0/(1.0 + exp(-alpha*v))"
   ]
  },
  {
   "cell_type": "code",
   "execution_count": 642,
   "metadata": {},
   "outputs": [],
   "source": [
    "# train the neural network model for 60000 training images of size 28*28\n",
    "train_data = get_data('/Users/kislaya/Documents/UIC/NN/train-images-idx3-ubyte.gz', [28, 28, 60000], 'img')\n",
    "train_labels = get_data('/Users/kislaya/Documents/UIC/NN/train-labels-idx1-ubyte.gz', [1, 1, 60000], 'label')\n",
    "epoch_number = 0\n",
    "# n = 400\n",
    "n = 60000\n",
    "# n = 1000\n",
    "param = 10\n",
    "epoch_errors = dict()\n",
    "epoch_test_errors = dict()\n",
    "\n",
    "\n",
    "thresh = 0.085\n",
    "epoch_errors[epoch_number] = 0\n",
    "epoch_test_errors[epoch_number] = 0\n",
    "\n",
    "\n",
    "# W1 = np.random.rand(785, 800)\n",
    "# W2 = np.random.rand(801, 10)\n",
    "val = list()\n",
    "w_l1 = np.random.uniform(low=-1, high=1, size=(400,785))\n",
    "w_l2 = np.random.uniform(low=-1, high=1, size=(401,10))\n",
    "alpha = 0.001"
   ]
  },
  {
   "cell_type": "code",
   "execution_count": 643,
   "metadata": {},
   "outputs": [],
   "source": [
    "test_data = get_data('/Users/kislaya/Documents/UIC/NN/t10k-images-idx3-ubyte.gz', [28, 28, 10000], 'img')\n",
    "test_labels = get_data('/Users/kislaya/Documents/UIC/NN/t10k-labels-idx1-ubyte.gz', [1, 1, 10000], 'label')"
   ]
  },
  {
   "cell_type": "code",
   "execution_count": null,
   "metadata": {},
   "outputs": [],
   "source": []
  },
  {
   "cell_type": "code",
   "execution_count": 644,
   "metadata": {},
   "outputs": [],
   "source": [
    "\n",
    "def find_differen_induced_local_l1(alpha, v):\n",
    "    return alpha*exp(-alpha*v)/((1+exp(-alpha*v))**2)"
   ]
  },
  {
   "cell_type": "code",
   "execution_count": 645,
   "metadata": {},
   "outputs": [
    {
     "name": "stdout",
     "output_type": "stream",
     "text": [
      "(60000, 28, 28)\n",
      "(60000,)\n"
     ]
    }
   ],
   "source": [
    "print(train_data.shape)\n",
    "print(train_labels.shape)\n",
    "N=400\n",
    "alpha = 0.01\n",
    "eta = 1\n",
    "    "
   ]
  },
  {
   "cell_type": "code",
   "execution_count": 646,
   "metadata": {},
   "outputs": [],
   "source": [
    "def step_function(value):\n",
    "    if value >= 0:\n",
    "        return 1\n",
    "    else:\n",
    "        return 0\n",
    "\n"
   ]
  },
  {
   "cell_type": "code",
   "execution_count": 647,
   "metadata": {},
   "outputs": [],
   "source": [
    "# n = int(n/10)"
   ]
  },
  {
   "cell_type": "code",
   "execution_count": 648,
   "metadata": {},
   "outputs": [
    {
     "name": "stdout",
     "output_type": "stream",
     "text": [
      "EPOCH\n",
      "{0: 0}\n",
      "*********************************\n",
      "0.7169182481343253\n",
      "TEST ERRORS\n",
      "1850\n",
      "EPOCH\n",
      "{0: 23944, 1: 0}\n",
      "*********************************\n",
      "0.35439021960636935\n",
      "TEST ERRORS\n",
      "988\n",
      "EPOCH\n",
      "{0: 23944, 1: 7779, 2: 0}\n",
      "*********************************\n",
      "0.22800680002016044\n",
      "TEST ERRORS\n",
      "852\n",
      "EPOCH\n",
      "{0: 23944, 1: 7779, 2: 5588, 3: 0}\n",
      "*********************************\n",
      "0.18042254788910964\n",
      "TEST ERRORS\n",
      "775\n",
      "EPOCH\n",
      "{0: 23944, 1: 7779, 2: 5588, 3: 4869, 4: 0}\n",
      "*********************************\n",
      "0.1557645479840524\n",
      "TEST ERRORS\n",
      "728\n",
      "EPOCH\n",
      "{0: 23944, 1: 7779, 2: 5588, 3: 4869, 4: 4440, 5: 0}\n",
      "*********************************\n",
      "0.1399786512270984\n",
      "TEST ERRORS\n",
      "690\n",
      "EPOCH\n",
      "{0: 23944, 1: 7779, 2: 5588, 3: 4869, 4: 4440, 5: 4072, 6: 0}\n",
      "*********************************\n",
      "0.12869034520669356\n",
      "TEST ERRORS\n",
      "649\n",
      "EPOCH\n",
      "{0: 23944, 1: 7779, 2: 5588, 3: 4869, 4: 4440, 5: 4072, 6: 3800, 7: 0}\n",
      "*********************************\n",
      "0.11996241335953715\n",
      "TEST ERRORS\n",
      "618\n",
      "EPOCH\n",
      "{0: 23944, 1: 7779, 2: 5588, 3: 4869, 4: 4440, 5: 4072, 6: 3800, 7: 3571, 8: 0}\n",
      "*********************************\n",
      "0.11293053674499398\n",
      "TEST ERRORS\n",
      "603\n",
      "EPOCH\n",
      "{0: 23944, 1: 7779, 2: 5588, 3: 4869, 4: 4440, 5: 4072, 6: 3800, 7: 3571, 8: 3364, 9: 0}\n",
      "*********************************\n",
      "0.10709774728368103\n",
      "TEST ERRORS\n",
      "585\n",
      "EPOCH\n",
      "{0: 23944, 1: 7779, 2: 5588, 3: 4869, 4: 4440, 5: 4072, 6: 3800, 7: 3571, 8: 3364, 9: 3187, 10: 0}\n",
      "*********************************\n",
      "0.10209910827522076\n",
      "TEST ERRORS\n",
      "577\n",
      "EPOCH\n",
      "{0: 23944, 1: 7779, 2: 5588, 3: 4869, 4: 4440, 5: 4072, 6: 3800, 7: 3571, 8: 3364, 9: 3187, 10: 3045, 11: 0}\n",
      "*********************************\n",
      "0.09780862697979605\n",
      "TEST ERRORS\n",
      "566\n",
      "EPOCH\n",
      "{0: 23944, 1: 7779, 2: 5588, 3: 4869, 4: 4440, 5: 4072, 6: 3800, 7: 3571, 8: 3364, 9: 3187, 10: 3045, 11: 2907, 12: 0}\n",
      "*********************************\n",
      "0.09398038915934327\n",
      "TEST ERRORS\n",
      "554\n",
      "EPOCH\n",
      "{0: 23944, 1: 7779, 2: 5588, 3: 4869, 4: 4440, 5: 4072, 6: 3800, 7: 3571, 8: 3364, 9: 3187, 10: 3045, 11: 2907, 12: 2796, 13: 0}\n",
      "*********************************\n",
      "0.09059252627330676\n",
      "TEST ERRORS\n",
      "550\n",
      "EPOCH\n",
      "{0: 23944, 1: 7779, 2: 5588, 3: 4869, 4: 4440, 5: 4072, 6: 3800, 7: 3571, 8: 3364, 9: 3187, 10: 3045, 11: 2907, 12: 2796, 13: 2696, 14: 0}\n",
      "*********************************\n",
      "0.08752953994984868\n",
      "TEST ERRORS\n",
      "541\n",
      "EPOCH\n",
      "{0: 23944, 1: 7779, 2: 5588, 3: 4869, 4: 4440, 5: 4072, 6: 3800, 7: 3571, 8: 3364, 9: 3187, 10: 3045, 11: 2907, 12: 2796, 13: 2696, 14: 2606, 15: 0}\n",
      "*********************************\n",
      "0.08476170389148018\n",
      "TEST ERRORS\n",
      "534\n",
      "EPOCH\n",
      "{0: 23944, 1: 7779, 2: 5588, 3: 4869, 4: 4440, 5: 4072, 6: 3800, 7: 3571, 8: 3364, 9: 3187, 10: 3045, 11: 2907, 12: 2796, 13: 2696, 14: 2606, 15: 2522, 16: 0}\n",
      "*********************************\n",
      "0.082183713628999\n",
      "TEST ERRORS\n",
      "532\n",
      "EPOCH\n",
      "{0: 23944, 1: 7779, 2: 5588, 3: 4869, 4: 4440, 5: 4072, 6: 3800, 7: 3571, 8: 3364, 9: 3187, 10: 3045, 11: 2907, 12: 2796, 13: 2696, 14: 2606, 15: 2522, 16: 2428, 17: 0}\n",
      "*********************************\n",
      "0.07980964029352744\n",
      "TEST ERRORS\n",
      "528\n",
      "EPOCH\n",
      "{0: 23944, 1: 7779, 2: 5588, 3: 4869, 4: 4440, 5: 4072, 6: 3800, 7: 3571, 8: 3364, 9: 3187, 10: 3045, 11: 2907, 12: 2796, 13: 2696, 14: 2606, 15: 2522, 16: 2428, 17: 2363, 18: 0}\n",
      "*********************************\n",
      "0.07761088920836835\n",
      "TEST ERRORS\n",
      "525\n",
      "EPOCH\n",
      "{0: 23944, 1: 7779, 2: 5588, 3: 4869, 4: 4440, 5: 4072, 6: 3800, 7: 3571, 8: 3364, 9: 3187, 10: 3045, 11: 2907, 12: 2796, 13: 2696, 14: 2606, 15: 2522, 16: 2428, 17: 2363, 18: 2288, 19: 0}\n",
      "*********************************\n",
      "0.07558657982257724\n",
      "TEST ERRORS\n",
      "522\n",
      "EPOCH\n",
      "{0: 23944, 1: 7779, 2: 5588, 3: 4869, 4: 4440, 5: 4072, 6: 3800, 7: 3571, 8: 3364, 9: 3187, 10: 3045, 11: 2907, 12: 2796, 13: 2696, 14: 2606, 15: 2522, 16: 2428, 17: 2363, 18: 2288, 19: 2217, 20: 0}\n",
      "*********************************\n",
      "0.07370580211538846\n",
      "TEST ERRORS\n",
      "516\n",
      "EPOCH\n",
      "{0: 23944, 1: 7779, 2: 5588, 3: 4869, 4: 4440, 5: 4072, 6: 3800, 7: 3571, 8: 3364, 9: 3187, 10: 3045, 11: 2907, 12: 2796, 13: 2696, 14: 2606, 15: 2522, 16: 2428, 17: 2363, 18: 2288, 19: 2217, 20: 2145, 21: 0}\n",
      "*********************************\n",
      "0.0719452875480518\n",
      "TEST ERRORS\n",
      "509\n",
      "EPOCH\n",
      "{0: 23944, 1: 7779, 2: 5588, 3: 4869, 4: 4440, 5: 4072, 6: 3800, 7: 3571, 8: 3364, 9: 3187, 10: 3045, 11: 2907, 12: 2796, 13: 2696, 14: 2606, 15: 2522, 16: 2428, 17: 2363, 18: 2288, 19: 2217, 20: 2145, 21: 2093, 22: 0}\n",
      "*********************************\n",
      "0.07028089677771182\n",
      "TEST ERRORS\n",
      "504\n",
      "EPOCH\n",
      "{0: 23944, 1: 7779, 2: 5588, 3: 4869, 4: 4440, 5: 4072, 6: 3800, 7: 3571, 8: 3364, 9: 3187, 10: 3045, 11: 2907, 12: 2796, 13: 2696, 14: 2606, 15: 2522, 16: 2428, 17: 2363, 18: 2288, 19: 2217, 20: 2145, 21: 2093, 22: 2040, 23: 0}\n",
      "*********************************\n",
      "0.0686963416600519\n",
      "TEST ERRORS\n",
      "502\n",
      "EPOCH\n",
      "{0: 23944, 1: 7779, 2: 5588, 3: 4869, 4: 4440, 5: 4072, 6: 3800, 7: 3571, 8: 3364, 9: 3187, 10: 3045, 11: 2907, 12: 2796, 13: 2696, 14: 2606, 15: 2522, 16: 2428, 17: 2363, 18: 2288, 19: 2217, 20: 2145, 21: 2093, 22: 2040, 23: 1979, 24: 0}\n",
      "*********************************\n",
      "0.06720277022182954\n",
      "TEST ERRORS\n",
      "496\n"
     ]
    }
   ],
   "source": [
    "energy_list = []\n",
    "y=[]\n",
    "while True:\n",
    "    epoch_errors[epoch_number] = 0\n",
    "    epoch_test_errors[epoch_number] = 0\n",
    "    print(\"EPOCH\")\n",
    "    print(epoch_errors)\n",
    "    n_errors = 0\n",
    "    \n",
    "    energy = 0\n",
    "    for i in range(n):\n",
    "#         print(i)\n",
    "        x = train_data[i].reshape(784, 1)\n",
    "        des = create_desired_output_vector(int(train_labels[i])) \n",
    "\n",
    "        w_l2=w_l2.reshape(N+1,10)\n",
    "        v1 = np.matmul(w_l1, np.append(1,x))\n",
    "        temp = np.vectorize(get_sigmoid_out)\n",
    "        y1 = temp(alpha, v1)\n",
    "        v2=np.matmul(w_l2.T, np.append(1,y1.T).reshape(N+1,1))\n",
    "        y2 = temp(alpha, v2)\n",
    "        \n",
    "        my_out = np.argmax(y2)\n",
    "        y.append(my_out)\n",
    "        if int(train_labels[i])!=my_out:\n",
    "            epoch_errors[epoch_number]+=1\n",
    "        diff_v = np.vectorize(find_differen_induced_local_l1)\n",
    "        diff_v1= diff_v(alpha, v1)\n",
    "        diff_v2 = diff_v(alpha, v2)\n",
    "\n",
    "\n",
    "        delta2 = np.multiply((des-y2), diff_v2)\n",
    "\n",
    "        diff_v1 = diff_v1.reshape(N,1)\n",
    "\n",
    "        delta1 = np.multiply(np.matmul(w_l2, delta2)[1:], diff_v1)\n",
    "\n",
    "        biased_y1 = np.append(1,y1).reshape(N+1,1).T\n",
    "\n",
    "        biased_y0 = np.append(1,x).reshape(1, 785)\n",
    "\n",
    "\n",
    "\n",
    "        g2 = np.matmul(-delta2, biased_y1)\n",
    "\n",
    "        g1 = np.matmul(-delta1,biased_y0 )\n",
    "        w_l1 = w_l1-eta*g1\n",
    "        w_l2 = w_l2-eta*g2.T\n",
    "#         print(g2.shape)\n",
    "        \n",
    "#         print(np.linalg.norm((des-y2))**2)\n",
    "        energy+= np.linalg.norm((des-y2))**2\n",
    "    \n",
    "    energy = energy/n\n",
    "    print(\"*********************************\")\n",
    "    print(energy)\n",
    "    energy_list.append(energy)\n",
    "#     if len(energy_list)>1:\n",
    "#         print(energy_list[-2]-energy_list[-1])\n",
    "#         if energy_list[-1]<0.1:\n",
    "#             print(\"*********\")\n",
    "#             break\n",
    "        \n",
    "    errors = 0\n",
    "    \n",
    "    for i in range(10000):\n",
    "        x_test = test_data[i].reshape(784, 1)\n",
    "        des_test = create_desired_output_vector(int(test_labels[i])) \n",
    "        w_l2=w_l2.reshape(N+1,10)\n",
    "        v1_test = np.matmul(w_l1, np.append(1,x_test))\n",
    "        temp = np.vectorize(get_sigmoid_out)\n",
    "        y1_test = temp(alpha, v1_test)\n",
    "        v2_test=np.matmul(w_l2.T, np.append(1,y1_test.T).reshape(N+1,1))\n",
    "        y2_test = temp(alpha, v2_test)\n",
    "        my_out = np.argmax(y2_test)\n",
    "        if int(test_labels[i])!=my_out:\n",
    "            epoch_test_errors[epoch_number]+=1\n",
    "            errors+=1\n",
    "    epoch_number+=1        \n",
    "    print(\"TEST ERRORS\")\n",
    "    print(errors)\n",
    "    if errors<499:\n",
    "        break\n",
    "    "
   ]
  },
  {
   "cell_type": "code",
   "execution_count": 629,
   "metadata": {},
   "outputs": [
    {
     "data": {
      "text/plain": [
       "{0: 8982, 1: 8982, 2: 0}"
      ]
     },
     "execution_count": 629,
     "metadata": {},
     "output_type": "execute_result"
    }
   ],
   "source": [
    "# epoch_test_errors"
   ]
  },
  {
   "cell_type": "code",
   "execution_count": null,
   "metadata": {},
   "outputs": [],
   "source": [
    "# errors = 0\n",
    "\n",
    "# for i in range(10000):\n",
    "#     x_test = test_data[i].reshape(784, 1)\n",
    "#     des_test = create_desired_output_vector(int(test_labels[i])) \n",
    "#     w_l2=w_l2.reshape(N+1,10)\n",
    "#     v1_test = np.matmul(w_l1, np.append(1,x_test))\n",
    "#     temp = np.vectorize(get_sigmoid_out)\n",
    "#     y1_test = temp(alpha, v1_test)\n",
    "#     v2_test=np.matmul(w_l2.T, np.append(1,y1_test.T).reshape(N+1,1))\n",
    "#     y2_test = temp(alpha, v2_test)\n",
    "#     my_out = np.argmax(y2_test)\n",
    "#     if int(test_labels[i])!=my_out:\n",
    "#         errors+=1\n",
    "# print(\"TEST ERRORS\")\n",
    "# print(errors)"
   ]
  },
  {
   "cell_type": "code",
   "execution_count": 649,
   "metadata": {},
   "outputs": [
    {
     "data": {
      "text/plain": [
       "Text(0,0.5,'Training Errors')"
      ]
     },
     "execution_count": 649,
     "metadata": {},
     "output_type": "execute_result"
    },
    {
     "data": {
      "image/png": "[encoded data removed]",
      "text/plain": [
       "<Figure size 432x288 with 1 Axes>"
      ]
     },
     "metadata": {},
     "output_type": "display_data"
    }
   ],
   "source": [
    "plt.plot(list(epoch_errors.keys()), epoch_errors.values())\n",
    "plt.xlabel('Epochs')\n",
    "plt.ylabel('Training Errors')"
   ]
  },
  {
   "cell_type": "code",
   "execution_count": 650,
   "metadata": {},
   "outputs": [
    {
     "data": {
      "text/plain": [
       "Text(0,0.5,'Test Errors')"
      ]
     },
     "execution_count": 650,
     "metadata": {},
     "output_type": "execute_result"
    },
    {
     "data": {
      "image/png": "[encoded data removed]",
      "text/plain": [
       "<Figure size 432x288 with 1 Axes>"
      ]
     },
     "metadata": {},
     "output_type": "display_data"
    }
   ],
   "source": [
    "plt.plot(list(epoch_test_errors.keys()), epoch_test_errors.values())\n",
    "plt.xlabel('Epochs')\n",
    "plt.ylabel('Test Errors')"
   ]
  },
  {
   "cell_type": "code",
   "execution_count": 660,
   "metadata": {},
   "outputs": [
    {
     "data": {
      "text/plain": [
       "Text(0,0.5,'Energy')"
      ]
     },
     "execution_count": 660,
     "metadata": {},
     "output_type": "execute_result"
    },
    {
     "data": {
      "image/png": "[encoded data removed]",
      "text/plain": [
       "<Figure size 432x288 with 1 Axes>"
      ]
     },
     "metadata": {},
     "output_type": "display_data"
    }
   ],
   "source": [
    "plt.plot(list(range(len(energy_list))), energy_list)\n",
    "plt.xlabel('Epochs')\n",
    "plt.ylabel('Energy')"
   ]
  },
  {
   "cell_type": "code",
   "execution_count": null,
   "metadata": {},
   "outputs": [],
   "source": []
  },
  {
   "cell_type": "code",
   "execution_count": 14,
   "metadata": {},
   "outputs": [
    {
     "data": {
      "text/plain": [
       "array([ 0.1621393 ,  0.05893478, -0.12507725,  0.26358603, -0.04645267,\n",
       "       -0.23113507, -0.09586662, -0.37516085,  0.16322229, -0.05165041])"
      ]
     },
     "execution_count": 14,
     "metadata": {},
     "output_type": "execute_result"
    }
   ],
   "source": [
    "w_l2[0]"
   ]
  },
  {
   "cell_type": "code",
   "execution_count": 38,
   "metadata": {},
   "outputs": [],
   "source": [
    "k=0\n",
    "# print(np.multiply(des-y2, w_l2[k+1]))\n",
    "# print((y1[k]*(1-y1[k]))*np.multiply(des-y2, w_l2[k+1])*diff_v1[k])"
   ]
  },
  {
   "cell_type": "code",
   "execution_count": null,
   "metadata": {},
   "outputs": [],
   "source": [
    "grad_l1 = np.empty((800, 785))\n",
    "for k in range(800):\n",
    "    common = (y1[k]*(1-y1[k]))*np.multiply(des-y2, w_l2[k+1])*diff_v1[k]\n",
    "    grad_l1[k][0] = np.array([[(y1[k]*(1-y1[k]))*np.multiply(des-y2, w_l2[k+1])*diff_v1[k]]])\n",
    "    for l in range(1,785):\n",
    "        grad_l1[k][l]= "
   ]
  },
  {
   "cell_type": "code",
   "execution_count": null,
   "metadata": {},
   "outputs": [],
   "source": []
  },
  {
   "cell_type": "code",
   "execution_count": 20,
   "metadata": {},
   "outputs": [],
   "source": []
  },
  {
   "cell_type": "code",
   "execution_count": null,
   "metadata": {},
   "outputs": [],
   "source": []
  },
  {
   "cell_type": "code",
   "execution_count": null,
   "metadata": {},
   "outputs": [],
   "source": []
  },
  {
   "cell_type": "code",
   "execution_count": null,
   "metadata": {},
   "outputs": [],
   "source": []
  },
  {
   "cell_type": "code",
   "execution_count": 99,
   "metadata": {},
   "outputs": [
    {
     "data": {
      "text/plain": [
       "(800,)"
      ]
     },
     "execution_count": 99,
     "metadata": {},
     "output_type": "execute_result"
    }
   ],
   "source": [
    "y1.shape"
   ]
  },
  {
   "cell_type": "code",
   "execution_count": null,
   "metadata": {},
   "outputs": [],
   "source": [
    "\n",
    "#print(y1.shape)\n",
    "\n",
    "# y2=np.matmul(w_l2.T, np.append(1,y1.T).reshape(25,1))\n",
    "#print(y2.shape)\n",
    "# y2 = y2[0][0]\n",
    "# y.append(y2)\n",
    "\n",
    "#         grad_l1 = np.array([])\n",
    "#         grad_l2 = np.array([-(d[i]-y2)])\n",
    "grad_l1 = np.array([[-(d[i]-y2)*1*w_l2[1][0]*diff_v1[0][0], -x[i]*(d[i]-y2)*1*w_l2[1][0]*diff_v1[0][0]]])\n",
    "grad_l2 = np.array([-(d[i]-y2), -y1[0]*(d[0]-y2)])\n",
    "for j in range(1,24):\n",
    "    temp = np.array([[-(d[i]-y2)*1*w_l2[j+1][0]*diff_v1[j][0], -x[i]*(d[i]-y2)*1*w_l2[j+1][0]*diff_v1[j][0]]])\n",
    "    grad_l1 = np.concatenate((grad_l1, temp))\n",
    "    grad_l2 = np.append(grad_l2, -y1[j]*(d[i]-y2))\n",
    "grad_l2 = grad_l2.reshape(25,1)\n",
    "#     print(w_l2.shape)\n",
    "#         print(grad_l1)\n",
    "w_l1 = w_l1-eta*grad_l1\n",
    "w_l2 = w_l2-eta*grad_l2\n",
    "\n"
   ]
  },
  {
   "cell_type": "code",
   "execution_count": null,
   "metadata": {},
   "outputs": [],
   "source": []
  },
  {
   "cell_type": "code",
   "execution_count": null,
   "metadata": {},
   "outputs": [],
   "source": []
  },
  {
   "cell_type": "code",
   "execution_count": null,
   "metadata": {},
   "outputs": [],
   "source": []
  },
  {
   "cell_type": "code",
   "execution_count": null,
   "metadata": {},
   "outputs": [],
   "source": []
  },
  {
   "cell_type": "code",
   "execution_count": null,
   "metadata": {},
   "outputs": [],
   "source": []
  },
  {
   "cell_type": "code",
   "execution_count": null,
   "metadata": {},
   "outputs": [],
   "source": []
  },
  {
   "cell_type": "code",
   "execution_count": null,
   "metadata": {},
   "outputs": [],
   "source": []
  },
  {
   "cell_type": "code",
   "execution_count": null,
   "metadata": {},
   "outputs": [],
   "source": []
  }
 ],
 "metadata": {
  "kernelspec": {
   "display_name": "Python 3",
   "language": "python",
   "name": "python3"
  },
  "language_info": {
   "codemirror_mode": {
    "name": "ipython",
    "version": 3
   },
   "file_extension": ".py",
   "mimetype": "text/x-python",
   "name": "python",
   "nbconvert_exporter": "python",
   "pygments_lexer": "ipython3",
   "version": "3.6.8"
  }
 },
 "nbformat": 4,
 "nbformat_minor": 2
}
